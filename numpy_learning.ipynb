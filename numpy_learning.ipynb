{
 "cells": [
  {
   "cell_type": "code",
   "execution_count": 2,
   "id": "fef4fe34-3f81-4e47-9fe2-4ca50d576365",
   "metadata": {},
   "outputs": [],
   "source": [
    "import numpy as np"
   ]
  },
  {
   "cell_type": "markdown",
   "id": "b770de00-3577-4ed5-9574-395831f1bd57",
   "metadata": {},
   "source": [
    "THE BASICS"
   ]
  },
  {
   "cell_type": "code",
   "execution_count": 17,
   "id": "eaf4212b-95e2-46b5-afac-b12ffb24449c",
   "metadata": {},
   "outputs": [
    {
     "name": "stdout",
     "output_type": "stream",
     "text": [
      "[1 2 3]\n"
     ]
    }
   ],
   "source": [
    "a = np.array([1,2,3], dtype='int16')\n",
    "print(a)"
   ]
  },
  {
   "cell_type": "code",
   "execution_count": 5,
   "id": "0a1fe0ba-6e32-40eb-9ce4-df1e3052df3a",
   "metadata": {},
   "outputs": [
    {
     "name": "stdout",
     "output_type": "stream",
     "text": [
      "Hello\n"
     ]
    }
   ],
   "source": [
    "print(\"Hello\")"
   ]
  },
  {
   "cell_type": "code",
   "execution_count": 9,
   "id": "8d6fa9dc-ff3b-46af-bb03-ca623c47d386",
   "metadata": {},
   "outputs": [
    {
     "name": "stdout",
     "output_type": "stream",
     "text": [
      "[[9 8 6 5]\n",
      " [1 2 3 4]]\n"
     ]
    }
   ],
   "source": [
    "b = np.array([[9,8,6,5],[1,2,3,4]])\n",
    "print(b)"
   ]
  },
  {
   "cell_type": "markdown",
   "id": "fb597d56-3c71-42ef-bd8e-2dc19b8dfd84",
   "metadata": {},
   "source": [
    "Getting Dimension of numpy arrays"
   ]
  },
  {
   "cell_type": "code",
   "execution_count": 10,
   "id": "9a5de0c0-566b-46f8-87af-3a89bad671f6",
   "metadata": {},
   "outputs": [
    {
     "data": {
      "text/plain": [
       "1"
      ]
     },
     "execution_count": 10,
     "metadata": {},
     "output_type": "execute_result"
    }
   ],
   "source": [
    "a.ndim"
   ]
  },
  {
   "cell_type": "code",
   "execution_count": 11,
   "id": "a64ab9b7-8552-4cd6-a8be-41de75cfe5b9",
   "metadata": {},
   "outputs": [
    {
     "data": {
      "text/plain": [
       "2"
      ]
     },
     "execution_count": 11,
     "metadata": {},
     "output_type": "execute_result"
    }
   ],
   "source": [
    "b.ndim"
   ]
  },
  {
   "cell_type": "markdown",
   "id": "c5f5f2cb-5b35-48a0-8036-5cb8287b7cda",
   "metadata": {},
   "source": [
    "Shape function"
   ]
  },
  {
   "cell_type": "code",
   "execution_count": 12,
   "id": "337b9414-04df-4ebf-8b78-91f00327d5d3",
   "metadata": {},
   "outputs": [
    {
     "data": {
      "text/plain": [
       "(3,)"
      ]
     },
     "execution_count": 12,
     "metadata": {},
     "output_type": "execute_result"
    }
   ],
   "source": [
    "a.shape"
   ]
  },
  {
   "cell_type": "code",
   "execution_count": 13,
   "id": "5507aa0c-d544-4539-aac7-8c73ceb31355",
   "metadata": {},
   "outputs": [
    {
     "data": {
      "text/plain": [
       "(2, 4)"
      ]
     },
     "execution_count": 13,
     "metadata": {},
     "output_type": "execute_result"
    }
   ],
   "source": [
    "b.shape"
   ]
  },
  {
   "cell_type": "markdown",
   "id": "0e23d8fb-594b-4eef-b1b5-e9093c41dad8",
   "metadata": {},
   "source": [
    "Get Type"
   ]
  },
  {
   "cell_type": "code",
   "execution_count": 18,
   "id": "e80f4cea-3013-4058-bef0-35849d91d6ea",
   "metadata": {},
   "outputs": [
    {
     "data": {
      "text/plain": [
       "dtype('int16')"
      ]
     },
     "execution_count": 18,
     "metadata": {},
     "output_type": "execute_result"
    }
   ],
   "source": [
    "a.dtype"
   ]
  },
  {
   "cell_type": "code",
   "execution_count": 15,
   "id": "f626aa3a-5979-45b5-b1ae-7be8e634e905",
   "metadata": {},
   "outputs": [
    {
     "data": {
      "text/plain": [
       "dtype('int64')"
      ]
     },
     "execution_count": 15,
     "metadata": {},
     "output_type": "execute_result"
    }
   ],
   "source": [
    "b.dtype"
   ]
  },
  {
   "cell_type": "code",
   "execution_count": 19,
   "id": "b288eac2-241c-4186-982d-53ecda02540b",
   "metadata": {},
   "outputs": [
    {
     "data": {
      "text/plain": [
       "2"
      ]
     },
     "execution_count": 19,
     "metadata": {},
     "output_type": "execute_result"
    }
   ],
   "source": [
    "a.itemsize"
   ]
  },
  {
   "cell_type": "code",
   "execution_count": 20,
   "id": "199784da-214a-4121-aafd-32476467bdc1",
   "metadata": {},
   "outputs": [
    {
     "data": {
      "text/plain": [
       "3"
      ]
     },
     "execution_count": 20,
     "metadata": {},
     "output_type": "execute_result"
    }
   ],
   "source": [
    "a.size"
   ]
  },
  {
   "cell_type": "code",
   "execution_count": 21,
   "id": "365d813a-ba3d-424e-8acc-58c0538ce661",
   "metadata": {},
   "outputs": [
    {
     "data": {
      "text/plain": [
       "8"
      ]
     },
     "execution_count": 21,
     "metadata": {},
     "output_type": "execute_result"
    }
   ],
   "source": [
    "b.size"
   ]
  },
  {
   "cell_type": "code",
   "execution_count": 22,
   "id": "da12b904-8bd1-42d5-a5c5-af9758fe86dc",
   "metadata": {},
   "outputs": [
    {
     "data": {
      "text/plain": [
       "8"
      ]
     },
     "execution_count": 22,
     "metadata": {},
     "output_type": "execute_result"
    }
   ],
   "source": [
    "b.itemsize"
   ]
  },
  {
   "cell_type": "markdown",
   "id": "7c730286-b2fa-45a4-83a1-bddf96bb1b70",
   "metadata": {},
   "source": [
    "if:\n",
    "itemsize is used: then output is the number of bytes each unit of added values inside the numpy array consumed.\n",
    "\n",
    "if:\n",
    "size is used: then output is total number of items inside the array is printed\n",
    "\n",
    "if we need total number of bytes consumed by the array in our memory:\n",
    "then either use a.size * a.itemsize or simply a.nbytes"
   ]
  },
  {
   "cell_type": "code",
   "execution_count": 23,
   "id": "dca0ba3a-ff71-48c7-8afc-4f90b71dc3fd",
   "metadata": {},
   "outputs": [
    {
     "data": {
      "text/plain": [
       "6"
      ]
     },
     "execution_count": 23,
     "metadata": {},
     "output_type": "execute_result"
    }
   ],
   "source": [
    "a.nbytes"
   ]
  },
  {
   "cell_type": "markdown",
   "id": "9c6726d5-0612-459d-93ce-ee22931fae35",
   "metadata": {},
   "source": [
    "Accessing/Changing specific elements, rows, columns, etc"
   ]
  },
  {
   "cell_type": "code",
   "execution_count": 25,
   "id": "b71c8495-42f0-4e8a-8baa-e71a8274985b",
   "metadata": {},
   "outputs": [
    {
     "name": "stdout",
     "output_type": "stream",
     "text": [
      "[[1 2 3 4 5 6 7 8]\n",
      " [2 3 4 5 6 7 8 9]]\n"
     ]
    }
   ],
   "source": [
    "a = np.array([[1,2,3,4,5,6,7,8], [2,3,4,5,6,7,8,9]])\n",
    "print(a)"
   ]
  },
  {
   "cell_type": "code",
   "execution_count": 26,
   "id": "cc12739a-0e13-48f7-9c22-27effdb1207a",
   "metadata": {},
   "outputs": [
    {
     "data": {
      "text/plain": [
       "(2, 8)"
      ]
     },
     "execution_count": 26,
     "metadata": {},
     "output_type": "execute_result"
    }
   ],
   "source": [
    "a.shape"
   ]
  },
  {
   "cell_type": "markdown",
   "id": "f3ee77ed-8cd1-4251-872a-3ccb1014b695",
   "metadata": {},
   "source": [
    "Get a specific element"
   ]
  },
  {
   "cell_type": "code",
   "execution_count": 29,
   "id": "5c803c11-85be-448f-aeca-47df08b802ab",
   "metadata": {},
   "outputs": [
    {
     "name": "stdout",
     "output_type": "stream",
     "text": [
      "7\n"
     ]
    }
   ],
   "source": [
    "print(a[1,5]) #Gives us 2nd row 6th column because index starts from 0"
   ]
  },
  {
   "cell_type": "markdown",
   "id": "d5a73d48-0027-47d2-a7db-16fb461f3763",
   "metadata": {},
   "source": [
    "Get a specific row"
   ]
  },
  {
   "cell_type": "code",
   "execution_count": 31,
   "id": "57a5c645-a08b-422e-be5e-010afc552c12",
   "metadata": {},
   "outputs": [
    {
     "name": "stdout",
     "output_type": "stream",
     "text": [
      "[1 2 3 4 5 6 7 8]\n"
     ]
    }
   ],
   "source": [
    "print(a[0, :]) #Gives us 1st row and all columns of the 2D array"
   ]
  },
  {
   "cell_type": "markdown",
   "id": "6ae62ace-bfc8-455b-9857-52e805b106c8",
   "metadata": {},
   "source": [
    "Get a specific column"
   ]
  },
  {
   "cell_type": "code",
   "execution_count": 32,
   "id": "9831c6f8-fcad-4228-9242-c8a50b0dda1b",
   "metadata": {},
   "outputs": [
    {
     "name": "stdout",
     "output_type": "stream",
     "text": [
      "[6 7]\n"
     ]
    }
   ],
   "source": [
    "print(a[:, 5]) #Gives us all rows and 6th column of the 2D array"
   ]
  },
  {
   "cell_type": "markdown",
   "id": "3903ca26-bfb8-4a00-91bd-70422e5f9d88",
   "metadata": {},
   "source": [
    "It is just like lists in python which follows start_index, end_index, step size\n",
    "slicing operation can be used just like lists\n",
    "\n",
    "Meaning--> we can mention like a[0, 1:6:2], something like this"
   ]
  },
  {
   "cell_type": "code",
   "execution_count": 35,
   "id": "c288b2cd-fea9-4f9d-9401-e21152fdcce8",
   "metadata": {},
   "outputs": [
    {
     "name": "stdout",
     "output_type": "stream",
     "text": [
      "[2 4 6]\n"
     ]
    }
   ],
   "source": [
    "print(a[0, 1:6:2])"
   ]
  },
  {
   "cell_type": "markdown",
   "id": "f68cbee4-960f-4436-9481-1d0c14a45b9a",
   "metadata": {},
   "source": [
    "We can also change the particular value inside the array using its index just like like lists\n",
    "\n",
    "I mean it is mutable"
   ]
  },
  {
   "cell_type": "markdown",
   "id": "223e5a3d-6c5e-450a-8a04-e29fd7a14b26",
   "metadata": {},
   "source": [
    "We can also change values of entire rows or columns like below"
   ]
  },
  {
   "cell_type": "code",
   "execution_count": 42,
   "id": "af06ce32-c3fb-430e-ad82-a56a69cd3af9",
   "metadata": {},
   "outputs": [
    {
     "name": "stdout",
     "output_type": "stream",
     "text": [
      "[[1 2 3 4 5 6 7 8]\n",
      " [2 3 4 5 6 7 8 9]]\n",
      "[[1 2 3 4 5 5 7 8]\n",
      " [2 3 4 5 6 5 8 9]]\n",
      "[[ 1  2  3  4  5 25  7  8]\n",
      " [ 2  3  4  5  6 50  8  9]]\n"
     ]
    }
   ],
   "source": [
    "a = np.array([[1,2,3,4,5,6,7,8], [2,3,4,5,6,7,8,9]])\n",
    "\n",
    "print(a)\n",
    "\n",
    "a[:, 5] = 5\n",
    "\n",
    "print(a)\n",
    "\n",
    "a[:, 5] = [25,50]\n",
    "\n",
    "print(a)"
   ]
  },
  {
   "cell_type": "markdown",
   "id": "603e3805-f905-4f5a-8c81-dea59d313387",
   "metadata": {},
   "source": [
    "Same like this we can work with 3d arrays and n-dimensional arrays too\n",
    "\n",
    "just the fact that: when we want to access a particular element and do operations on it then we should specify the corrent index of it\n",
    "\n",
    "for n dim array to specify a element we give index with n specs.\n",
    "\n",
    "example--> a[0,2,3] in case of specifying an element from a 3d array"
   ]
  },
  {
   "cell_type": "markdown",
   "id": "4b356f82-6cad-4614-8023-9da0f5f9f69f",
   "metadata": {},
   "source": [
    "Similarly we can extend the same concepts of shape, getting specific element/row/column, changing the values, slicing just like in lists etc"
   ]
  },
  {
   "cell_type": "markdown",
   "id": "2f1f6d0a-a416-48d9-9c77-4f3038962bc5",
   "metadata": {},
   "source": [
    "Now\n",
    "\n",
    "Initializing different types of Arrays"
   ]
  },
  {
   "cell_type": "code",
   "execution_count": 68,
   "id": "fc47d5be-2aea-4a58-8513-145856b94600",
   "metadata": {},
   "outputs": [
    {
     "name": "stdout",
     "output_type": "stream",
     "text": [
      "[[0. 0. 0.]\n",
      " [0. 0. 0.]]\n"
     ]
    }
   ],
   "source": [
    "print(np.zeros((2,3)))"
   ]
  },
  {
   "cell_type": "code",
   "execution_count": 65,
   "id": "263d8ec1-f556-49cd-887e-2a2841f10b7a",
   "metadata": {},
   "outputs": [
    {
     "name": "stdout",
     "output_type": "stream",
     "text": [
      "[[[0. 0. 0.]\n",
      "  [0. 0. 0.]\n",
      "  [0. 0. 0.]]\n",
      "\n",
      " [[0. 0. 0.]\n",
      "  [0. 0. 0.]\n",
      "  [0. 0. 0.]]]\n"
     ]
    }
   ],
   "source": [
    "print(np.zeros((2,3,3)))"
   ]
  },
  {
   "cell_type": "code",
   "execution_count": 46,
   "id": "73e72dab-43bd-4093-88ef-506816733c4d",
   "metadata": {},
   "outputs": [
    {
     "data": {
      "text/plain": [
       "array([[[[0., 0.],\n",
       "         [0., 0.],\n",
       "         [0., 0.],\n",
       "         [0., 0.]],\n",
       "\n",
       "        [[0., 0.],\n",
       "         [0., 0.],\n",
       "         [0., 0.],\n",
       "         [0., 0.]],\n",
       "\n",
       "        [[0., 0.],\n",
       "         [0., 0.],\n",
       "         [0., 0.],\n",
       "         [0., 0.]]],\n",
       "\n",
       "\n",
       "       [[[0., 0.],\n",
       "         [0., 0.],\n",
       "         [0., 0.],\n",
       "         [0., 0.]],\n",
       "\n",
       "        [[0., 0.],\n",
       "         [0., 0.],\n",
       "         [0., 0.],\n",
       "         [0., 0.]],\n",
       "\n",
       "        [[0., 0.],\n",
       "         [0., 0.],\n",
       "         [0., 0.],\n",
       "         [0., 0.]]]])"
      ]
     },
     "execution_count": 46,
     "metadata": {},
     "output_type": "execute_result"
    }
   ],
   "source": [
    "#let me know how long did you take to understand\n",
    "#why we get the output for 4d array initializing like that\n",
    "\n",
    "np.zeros((2,3,4,2))"
   ]
  },
  {
   "cell_type": "code",
   "execution_count": 47,
   "id": "117fd98f-3c98-4138-a634-731a3120290a",
   "metadata": {},
   "outputs": [],
   "source": [
    "#I meant, how long did you take to understand why we got 6 matrices as shown above"
   ]
  },
  {
   "cell_type": "code",
   "execution_count": 64,
   "id": "f9907c78-2e6d-4c2e-b7a6-b3aae437821e",
   "metadata": {},
   "outputs": [
    {
     "name": "stdout",
     "output_type": "stream",
     "text": [
      "[[[1 1 1]\n",
      "  [1 1 1]\n",
      "  [1 1 1]]\n",
      "\n",
      " [[1 1 1]\n",
      "  [1 1 1]\n",
      "  [1 1 1]]\n",
      "\n",
      " [[1 1 1]\n",
      "  [1 1 1]\n",
      "  [1 1 1]]\n",
      "\n",
      " [[1 1 1]\n",
      "  [1 1 1]\n",
      "  [1 1 1]]]\n"
     ]
    }
   ],
   "source": [
    "print(np.ones((4,3,3), dtype='int32'))"
   ]
  },
  {
   "cell_type": "markdown",
   "id": "791c17e1-192d-4092-b1e3-fec722fd1bb1",
   "metadata": {},
   "source": [
    "To create arrays of any particular number"
   ]
  },
  {
   "cell_type": "code",
   "execution_count": 63,
   "id": "211b6240-fac4-4e66-920e-2dc1a481ba65",
   "metadata": {},
   "outputs": [
    {
     "name": "stdout",
     "output_type": "stream",
     "text": [
      "[[108 108]\n",
      " [108 108]\n",
      " [108 108]\n",
      " [108 108]]\n"
     ]
    }
   ],
   "source": [
    "print(np.full((4,2), 108))"
   ]
  },
  {
   "cell_type": "markdown",
   "id": "9e3715c0-d117-4a8f-a0e9-7793c923e42d",
   "metadata": {},
   "source": [
    "Full like method"
   ]
  },
  {
   "cell_type": "code",
   "execution_count": 56,
   "id": "c96bd650-d6c6-4688-851f-b4eb24a37132",
   "metadata": {},
   "outputs": [
    {
     "name": "stdout",
     "output_type": "stream",
     "text": [
      "[[1 2 3 4 5 6 7 8]\n",
      " [2 3 4 5 6 7 8 9]]\n",
      "[[108 108 108 108 108 108 108 108]\n",
      " [108 108 108 108 108 108 108 108]]\n",
      "[[108 108 108 108 108 108 108 108]\n",
      " [108 108 108 108 108 108 108 108]]\n"
     ]
    }
   ],
   "source": [
    "a = np.array([[1,2,3,4,5,6,7,8], [2,3,4,5,6,7,8,9]])\n",
    "print(a)\n",
    "\n",
    "print(np.full_like(a, 108))\n",
    "\n",
    "#alternative\n",
    "\n",
    "print(np.full(a.shape, 108))"
   ]
  },
  {
   "cell_type": "markdown",
   "id": "a6ed9ebd-b445-4ff7-b17c-f4d9ea5240db",
   "metadata": {},
   "source": [
    "Random decimal numbers"
   ]
  },
  {
   "cell_type": "code",
   "execution_count": 62,
   "id": "7c17e545-027c-458f-9449-353cd59cb6ab",
   "metadata": {},
   "outputs": [
    {
     "name": "stdout",
     "output_type": "stream",
     "text": [
      "[[0.96944543 0.40523386 0.20523098 0.28447795]\n",
      " [0.32449867 0.23137225 0.72472294 0.3327428 ]\n",
      " [0.25805837 0.69158285 0.57377694 0.93006663]]\n"
     ]
    }
   ],
   "source": [
    "print(np.random.rand(3,4))"
   ]
  },
  {
   "cell_type": "code",
   "execution_count": 61,
   "id": "86a2d6b6-82eb-47e4-9c77-19a292381195",
   "metadata": {},
   "outputs": [
    {
     "name": "stdout",
     "output_type": "stream",
     "text": [
      "[[[0.2132999  0.74498464]\n",
      "  [0.70464703 0.69507811]\n",
      "  [0.3368327  0.25888009]\n",
      "  [0.26119035 0.35930815]]\n",
      "\n",
      " [[0.14697642 0.78594405]\n",
      "  [0.49767157 0.93421869]\n",
      "  [0.74988166 0.47863757]\n",
      "  [0.36016248 0.26730365]]\n",
      "\n",
      " [[0.05903042 0.17987279]\n",
      "  [0.90748137 0.82109135]\n",
      "  [0.52170234 0.10368388]\n",
      "  [0.94520886 0.85175243]]]\n"
     ]
    }
   ],
   "source": [
    "print(np.random.rand(3,4,2))"
   ]
  },
  {
   "cell_type": "code",
   "execution_count": 69,
   "id": "8c0ea181-c74f-4016-8690-22845b343d9f",
   "metadata": {},
   "outputs": [
    {
     "name": "stdout",
     "output_type": "stream",
     "text": [
      "[[0.2059573  0.08925057 0.02547807 0.53685473 0.03420523 0.51585571\n",
      "  0.05736055 0.94308053]\n",
      " [0.99962957 0.22444805 0.57007491 0.79101068 0.29823501 0.70273239\n",
      "  0.33420004 0.83961186]]\n"
     ]
    }
   ],
   "source": [
    "print(np.random.random_sample(a.shape))"
   ]
  },
  {
   "cell_type": "markdown",
   "id": "9a1e21bd-f473-4911-883c-c3b885885120",
   "metadata": {},
   "source": [
    "Above gives any random number between 0 and 1\n",
    "\n",
    "What if we want any integer number"
   ]
  },
  {
   "cell_type": "code",
   "execution_count": 77,
   "id": "cc751d68-a06c-4156-9e13-b06c2fd07585",
   "metadata": {},
   "outputs": [
    {
     "name": "stdout",
     "output_type": "stream",
     "text": [
      "[[3 2 3]\n",
      " [0 2 5]\n",
      " [3 2 1]\n",
      " [0 6 6]]\n"
     ]
    }
   ],
   "source": [
    "print(np.random.randint(7, size=(4,3)))"
   ]
  },
  {
   "cell_type": "markdown",
   "id": "b43037ba-5518-4d47-a07b-b883e1209d42",
   "metadata": {},
   "source": [
    "Guessed what is that '7' doing in the randint function\n",
    "\n",
    "think and check below"
   ]
  },
  {
   "cell_type": "code",
   "execution_count": 78,
   "id": "8256b445-024b-4e7c-9af0-a0b5440ac638",
   "metadata": {},
   "outputs": [
    {
     "name": "stdout",
     "output_type": "stream",
     "text": [
      "[[0 0 0]\n",
      " [0 0 0]\n",
      " [0 0 0]\n",
      " [0 0 0]]\n"
     ]
    }
   ],
   "source": [
    "print(np.random.randint(1, size=(4,3)))"
   ]
  },
  {
   "cell_type": "code",
   "execution_count": 79,
   "id": "81970fad-af5f-43c5-b5a2-f9d65dd42488",
   "metadata": {},
   "outputs": [
    {
     "name": "stdout",
     "output_type": "stream",
     "text": [
      "[[0 0 0]\n",
      " [1 1 0]\n",
      " [0 0 0]\n",
      " [1 0 0]]\n"
     ]
    }
   ],
   "source": [
    "print(np.random.randint(2, size=(4,3)))"
   ]
  },
  {
   "cell_type": "markdown",
   "id": "271f7534-dec5-4b18-b07f-2cc92a1822f9",
   "metadata": {},
   "source": [
    "Now, you know what that 7 means haha\n",
    "\n",
    "What if we need only numbers between two numbers"
   ]
  },
  {
   "cell_type": "code",
   "execution_count": 80,
   "id": "0030592c-5eaf-4c40-be50-3983666842bd",
   "metadata": {},
   "outputs": [
    {
     "name": "stdout",
     "output_type": "stream",
     "text": [
      "[[7 6 7]\n",
      " [6 8 5]\n",
      " [8 7 4]\n",
      " [4 3 7]]\n"
     ]
    }
   ],
   "source": [
    "print(np.random.randint(2, 10, size=(4,3))) #means between 2 and 10"
   ]
  },
  {
   "cell_type": "markdown",
   "id": "44bfde17-0d9b-4dae-a87c-3d0ab39a7344",
   "metadata": {},
   "source": [
    "What if we need negative numbers"
   ]
  },
  {
   "cell_type": "code",
   "execution_count": 87,
   "id": "19972611-a460-401b-9ba0-afaab3e06c1d",
   "metadata": {},
   "outputs": [
    {
     "name": "stdout",
     "output_type": "stream",
     "text": [
      "[[-5  3 -1]\n",
      " [ 1  0 -1]\n",
      " [-4 -3  3]\n",
      " [-4  0 -1]]\n"
     ]
    }
   ],
   "source": [
    "print(np.random.randint(-5, 5, size=(4,3)))"
   ]
  },
  {
   "cell_type": "markdown",
   "id": "bca0620a-0ea8-436f-9fb1-7cad1f1e7fb6",
   "metadata": {},
   "source": [
    "Notice that the upper limit inside numpy.random.randint is not printing\n",
    "\n",
    "but we remember that from random module--> random.randint(lower, upper) will produce integers from lower to upper including both\n",
    "\n",
    "and random.randrange from random module--> will produce integers from lower to upper-1\n",
    "\n",
    "now remember that numpy.random.randint(lower, upper, size) is similar to random.randrange(lower, upper)\n",
    "\n",
    "this is because, instead of creating the random functions from the random module\n",
    "\n",
    "people while creating the numpy libraries, they created it from scratch for better performance and made a mistake while creating numpy.random.randint\n"
   ]
  },
  {
   "cell_type": "code",
   "execution_count": 88,
   "id": "ba4d72ff-1e3a-4306-bb27-c52307fadb67",
   "metadata": {},
   "outputs": [
    {
     "name": "stdout",
     "output_type": "stream",
     "text": [
      "[[1. 0. 0.]\n",
      " [0. 1. 0.]\n",
      " [0. 0. 1.]]\n"
     ]
    }
   ],
   "source": [
    "print(np.identity(3))"
   ]
  },
  {
   "cell_type": "markdown",
   "id": "f52567f6-b39d-4423-98b2-54b53949b289",
   "metadata": {},
   "source": [
    "Repeating arrays concept"
   ]
  },
  {
   "cell_type": "code",
   "execution_count": 89,
   "id": "2426c99b-a09a-4a58-9571-86cecb33ffc0",
   "metadata": {},
   "outputs": [
    {
     "name": "stdout",
     "output_type": "stream",
     "text": [
      "[1 1 1 2 2 2 3 3 3]\n"
     ]
    }
   ],
   "source": [
    "arr = np.array([1,2,3])\n",
    "re = np.repeat(arr, 3, axis=0)\n",
    "print(re)"
   ]
  },
  {
   "cell_type": "code",
   "execution_count": 90,
   "id": "bed04298-5af8-45ca-b3a0-184ffbe2c211",
   "metadata": {},
   "outputs": [
    {
     "name": "stdout",
     "output_type": "stream",
     "text": [
      "[[1 2 3]\n",
      " [1 2 3]\n",
      " [1 2 3]]\n"
     ]
    }
   ],
   "source": [
    "arr2 = np.array([[1,2,3]])\n",
    "re = np.repeat(arr2, 3, axis=0)\n",
    "print(re)"
   ]
  },
  {
   "cell_type": "code",
   "execution_count": 93,
   "id": "bb02fe0e-692b-416e-9bb3-05b2ba688985",
   "metadata": {},
   "outputs": [
    {
     "name": "stdout",
     "output_type": "stream",
     "text": [
      "[[1 1 1 2 2 2 3 3 3]]\n"
     ]
    }
   ],
   "source": [
    "arr3 = np.array([[1,2,3]])\n",
    "re = np.repeat(arr3, 3, axis=1)\n",
    "print(re)"
   ]
  },
  {
   "cell_type": "markdown",
   "id": "42f20899-084e-4f8b-87ca-b3dbb54e490b",
   "metadata": {},
   "source": [
    "now try doing this:\n",
    "\n",
    "arr4 = np.array([1,2,3])\n",
    "re = np.repeat(arr4, 3, axis=1)\n",
    "print(re)\n",
    "\n",
    "this will give error because,\n",
    "\n",
    "there is no axis 1 for 1D array"
   ]
  },
  {
   "cell_type": "code",
   "execution_count": 104,
   "id": "30d6fc44-2e2d-4021-ac5b-a1302168c47d",
   "metadata": {},
   "outputs": [
    {
     "name": "stdout",
     "output_type": "stream",
     "text": [
      "   A  B  C\n",
      "0  1  2  3\n",
      "1  4  5  6\n",
      "A    int64\n",
      "B    int64\n",
      "C    int64\n",
      "dtype: object\n",
      "0     6\n",
      "1    15\n",
      "dtype: int64\n",
      "A    5\n",
      "B    7\n",
      "C    9\n",
      "dtype: int64\n"
     ]
    }
   ],
   "source": [
    "import pandas as pd\n",
    "\n",
    "# Create a DataFrame\n",
    "df = pd.DataFrame({\n",
    "    'A': [1, 4],\n",
    "    'B': [2, 5],\n",
    "    'C': [3, 6]\n",
    "})\n",
    "print(df)\n",
    "print(df.dtypes)\n",
    "# Sum along axis=0 (sum columns)\n",
    "sum_axis_0 = df.sum(axis=0)  # Result: A 5, B 7, C 9\n",
    "\n",
    "# Sum along axis=1 (sum rows)\n",
    "sum_axis_1 = df.sum(axis=1)  # Result: 6, 15\n",
    "\n",
    "print(sum_axis_1)\n",
    "print(sum_axis_0)"
   ]
  },
  {
   "cell_type": "markdown",
   "id": "e520e085-ed85-43d4-bcc5-db78a4e58cf4",
   "metadata": {},
   "source": [
    "we know that when we wanted to create a copy of an array to another then we can use b=a\n",
    "where 'b' is new copy of array 'a' and 'a' is pre-initialized\n",
    "\n",
    "now, what if we changed the element of 'b'\n",
    "\n",
    "then same element will be changed in 'a' also because both are pointing to same pointer value\n",
    "\n",
    "to make just a duplicate copy: just do b=a.copy()"
   ]
  },
  {
   "cell_type": "markdown",
   "id": "3ec49b98-7f00-412a-b5d6-23c154b58866",
   "metadata": {},
   "source": [
    "MATHEMATICS IN NUMPY"
   ]
  },
  {
   "cell_type": "code",
   "execution_count": 105,
   "id": "efe20570-48a1-43b4-833f-c00bff6c63a7",
   "metadata": {},
   "outputs": [
    {
     "name": "stdout",
     "output_type": "stream",
     "text": [
      "[1 2 3]\n"
     ]
    }
   ],
   "source": [
    "a = np.array([1,2,3])\n",
    "print(a)"
   ]
  },
  {
   "cell_type": "code",
   "execution_count": 106,
   "id": "27f4eded-a1f3-46e5-9148-223cf34c02f0",
   "metadata": {},
   "outputs": [
    {
     "name": "stdout",
     "output_type": "stream",
     "text": [
      "[3 4 5]\n"
     ]
    }
   ],
   "source": [
    "print(a+2)"
   ]
  },
  {
   "cell_type": "code",
   "execution_count": 107,
   "id": "7bf8e735-1bd5-45a9-802a-78db9671352f",
   "metadata": {},
   "outputs": [
    {
     "name": "stdout",
     "output_type": "stream",
     "text": [
      "[0 1 2]\n"
     ]
    }
   ],
   "source": [
    "print(a-1)"
   ]
  },
  {
   "cell_type": "code",
   "execution_count": 108,
   "id": "33fdc74c-c46a-415d-8af3-d6869575c397",
   "metadata": {},
   "outputs": [
    {
     "name": "stdout",
     "output_type": "stream",
     "text": [
      "[2 4 6]\n"
     ]
    }
   ],
   "source": [
    "print(a*2)"
   ]
  },
  {
   "cell_type": "code",
   "execution_count": 109,
   "id": "17eb0e88-0dde-4baf-922c-ae99a6c06d75",
   "metadata": {},
   "outputs": [
    {
     "name": "stdout",
     "output_type": "stream",
     "text": [
      "[0.5 1.  1.5]\n"
     ]
    }
   ],
   "source": [
    "print(a/2)"
   ]
  },
  {
   "cell_type": "code",
   "execution_count": 116,
   "id": "bede6c5d-cc48-4699-a206-5b5dd3d3de0d",
   "metadata": {},
   "outputs": [
    {
     "name": "stdout",
     "output_type": "stream",
     "text": [
      "[3 5 7]\n"
     ]
    }
   ],
   "source": [
    "a = np.array([1,2,3])\n",
    "b = np.array([2,3,4])\n",
    "print(a+b)"
   ]
  },
  {
   "cell_type": "code",
   "execution_count": 118,
   "id": "7c2b0e91-7a78-4fc7-9cce-c11367876760",
   "metadata": {},
   "outputs": [
    {
     "name": "stdout",
     "output_type": "stream",
     "text": [
      "[1 4 9]\n"
     ]
    }
   ],
   "source": [
    "print(a**2)"
   ]
  },
  {
   "cell_type": "code",
   "execution_count": 119,
   "id": "2c6930e6-4c21-4b04-b83e-03eaa7868799",
   "metadata": {},
   "outputs": [
    {
     "name": "stdout",
     "output_type": "stream",
     "text": [
      "[0.84147098 0.90929743 0.14112001]\n"
     ]
    }
   ],
   "source": [
    "print(np.sin(a))"
   ]
  },
  {
   "cell_type": "code",
   "execution_count": 120,
   "id": "c759c80e-1770-4057-99c7-f84e53af6989",
   "metadata": {},
   "outputs": [
    {
     "name": "stdout",
     "output_type": "stream",
     "text": [
      "[ 0.54030231 -0.41614684 -0.9899925 ]\n"
     ]
    }
   ],
   "source": [
    "print(np.cos(a))"
   ]
  },
  {
   "cell_type": "code",
   "execution_count": 121,
   "id": "a48a978e-cdc3-436e-aa7d-c82921c6887c",
   "metadata": {},
   "outputs": [
    {
     "name": "stdout",
     "output_type": "stream",
     "text": [
      "[ 1.55740772 -2.18503986 -0.14254654]\n"
     ]
    }
   ],
   "source": [
    "print(np.tan(a))"
   ]
  },
  {
   "cell_type": "code",
   "execution_count": 126,
   "id": "fcbf9ff1-8e9f-4442-bf10-757d4fd9c626",
   "metadata": {},
   "outputs": [
    {
     "name": "stdout",
     "output_type": "stream",
     "text": [
      "[[1. 1. 1.]\n",
      " [1. 1. 1.]]\n",
      "[[5 5 5 5]\n",
      " [5 5 5 5]\n",
      " [5 5 5 5]]\n",
      "[[15. 15. 15. 15.]\n",
      " [15. 15. 15. 15.]]\n"
     ]
    }
   ],
   "source": [
    "a = np.ones((2,3))\n",
    "print(a)\n",
    "\n",
    "b = np.full((3,4), 5)\n",
    "print(b)\n",
    "\n",
    "print(np.matmul(a,b))"
   ]
  },
  {
   "cell_type": "code",
   "execution_count": 127,
   "id": "d6cde865-4354-45ee-9339-93f018aada57",
   "metadata": {},
   "outputs": [
    {
     "name": "stdout",
     "output_type": "stream",
     "text": [
      "1.0\n"
     ]
    }
   ],
   "source": [
    "c = np.identity(3)\n",
    "print(np.linalg.det(c))"
   ]
  },
  {
   "cell_type": "markdown",
   "id": "607df894-917e-42ba-90a8-546103c06183",
   "metadata": {},
   "source": [
    "This is like the matlab of python\n",
    "\n",
    "So it has soo many functions and they can be googled very easily and are also self explanatory"
   ]
  },
  {
   "cell_type": "markdown",
   "id": "344d485e-52e8-4611-ae50-e3a15f44dc79",
   "metadata": {},
   "source": [
    "We also have statistical operations like--> min(), mean(), max(), sum() etc etc"
   ]
  },
  {
   "cell_type": "code",
   "execution_count": 129,
   "id": "ab9c91a8-3857-4f65-a20e-f38dcf28fb16",
   "metadata": {},
   "outputs": [
    {
     "name": "stdout",
     "output_type": "stream",
     "text": [
      "[[1 2 3 4 5 6 7 8]\n",
      " [2 3 4 5 6 7 8 9]]\n",
      "[[1 2 3 4]\n",
      " [5 6 7 8]\n",
      " [2 3 4 5]\n",
      " [6 7 8 9]]\n"
     ]
    }
   ],
   "source": [
    "a = np.array([[1,2,3,4,5,6,7,8], [2,3,4,5,6,7,8,9]])\n",
    "print(a)\n",
    "\n",
    "new = a.reshape((4,4))\n",
    "print(new)"
   ]
  },
  {
   "cell_type": "code",
   "execution_count": 130,
   "id": "f86de0e0-23ae-4ff7-bc15-9ebce010d523",
   "metadata": {},
   "outputs": [
    {
     "name": "stdout",
     "output_type": "stream",
     "text": [
      "[[[1 2]\n",
      "  [3 4]]\n",
      "\n",
      " [[5 6]\n",
      "  [7 8]]\n",
      "\n",
      " [[2 3]\n",
      "  [4 5]]\n",
      "\n",
      " [[6 7]\n",
      "  [8 9]]]\n"
     ]
    }
   ],
   "source": [
    "new2 = a.reshape((4, 2, 2))\n",
    "print(new2)"
   ]
  },
  {
   "cell_type": "markdown",
   "id": "4b3a8014-208b-4edf-9117-2185ac7a714f",
   "metadata": {},
   "source": [
    "Vertical stacking of vectors"
   ]
  },
  {
   "cell_type": "code",
   "execution_count": 133,
   "id": "0e7ae8a9-293f-426e-a908-295a40f8bce7",
   "metadata": {},
   "outputs": [
    {
     "name": "stdout",
     "output_type": "stream",
     "text": [
      "[[1 2 3 4]\n",
      " [5 6 7 8]]\n"
     ]
    }
   ],
   "source": [
    "v1 = np.array([1,2,3,4])\n",
    "v2 = np.array([5,6,7,8])\n",
    "\n",
    "print(np.vstack([v1,v2]))"
   ]
  },
  {
   "cell_type": "code",
   "execution_count": 134,
   "id": "f3aae55c-4296-4fdc-966f-88fda8d0e2d0",
   "metadata": {},
   "outputs": [
    {
     "name": "stdout",
     "output_type": "stream",
     "text": [
      "[[1 2 3 4]\n",
      " [5 6 7 8]\n",
      " [5 6 7 8]\n",
      " [1 2 3 4]]\n"
     ]
    }
   ],
   "source": [
    "print(np.vstack([v1,v2,v2,v1]))"
   ]
  },
  {
   "cell_type": "markdown",
   "id": "5505c1ba-02f2-4552-ad89-57d7a801ea8e",
   "metadata": {},
   "source": [
    "Horizontal stacking of vectors"
   ]
  },
  {
   "cell_type": "code",
   "execution_count": 135,
   "id": "5885caa5-2ade-479f-bc25-2b9900c62090",
   "metadata": {},
   "outputs": [
    {
     "name": "stdout",
     "output_type": "stream",
     "text": [
      "[1 2 3 4 5 6 7 8]\n"
     ]
    }
   ],
   "source": [
    "h1 = np.array([1,2,3,4])\n",
    "h2 = np.array([5,6,7,8])\n",
    "\n",
    "print(np.hstack([h1,h2]))"
   ]
  },
  {
   "cell_type": "code",
   "execution_count": 136,
   "id": "1d54c5ea-78df-432d-a6d7-904424aaf304",
   "metadata": {},
   "outputs": [
    {
     "name": "stdout",
     "output_type": "stream",
     "text": [
      "[[0. 0. 0. 0. 1. 1.]\n",
      " [0. 0. 0. 0. 1. 1.]]\n"
     ]
    }
   ],
   "source": [
    "h1 = np.zeros((2,4))\n",
    "h2 = np.ones((2,2))\n",
    "\n",
    "print(np.hstack([h1,h2]))"
   ]
  },
  {
   "cell_type": "markdown",
   "id": "b04690ce-fa5d-4da1-a92e-8cb4ad04f0d4",
   "metadata": {},
   "source": [
    "Mostly we are gonna get the data form online in the format of txt file etc\n",
    "\n",
    "Now we see file handling"
   ]
  },
  {
   "cell_type": "code",
   "execution_count": 3,
   "id": "25f0a4d8-be4c-44a2-bef4-7bf5559f65ec",
   "metadata": {},
   "outputs": [
    {
     "name": "stdout",
     "output_type": "stream",
     "text": [
      "[[  1.  13.  21.  11. 200.  75.   4.   3.  34.  29.   7.   8.   0.   1.\n",
      "    2.   3.   4.   5.]\n",
      " [  3.  42.  12.  33. 250.  75.   4.  55.   5.   4.   3.   4.   6.   6.\n",
      "    7.   0.  11.  15.]\n",
      " [  1.  25.  33.  11. 899.  11.   2.   5.  78.   0.   1.   2.   9.   8.\n",
      "    7.   1.  78.  90.]]\n"
     ]
    }
   ],
   "source": [
    "f = np.genfromtxt('data.txt', delimiter=',')\n",
    "print(f)"
   ]
  },
  {
   "cell_type": "code",
   "execution_count": 4,
   "id": "875f6d94-08a8-4251-8562-292c2836c63f",
   "metadata": {},
   "outputs": [
    {
     "name": "stdout",
     "output_type": "stream",
     "text": [
      "[[  1  13  21  11 200  75   4   3  34  29   7   8   0   1   2   3   4   5]\n",
      " [  3  42  12  33 250  75   4  55   5   4   3   4   6   6   7   0  11  15]\n",
      " [  1  25  33  11 899  11   2   5  78   0   1   2   9   8   7   1  78  90]]\n"
     ]
    }
   ],
   "source": [
    "print(f.astype('int64'))"
   ]
  },
  {
   "cell_type": "code",
   "execution_count": 5,
   "id": "825deacc-c86c-48bd-90de-4cf6af41418b",
   "metadata": {},
   "outputs": [
    {
     "name": "stdout",
     "output_type": "stream",
     "text": [
      "[[  1.  13.  21.  11. 200.  75.   4.   3.  34.  29.   7.   8.   0.   1.\n",
      "    2.   3.   4.   5.]\n",
      " [  3.  42.  12.  33. 250.  75.   4.  55.   5.   4.   3.   4.   6.   6.\n",
      "    7.   0.  11.  15.]\n",
      " [  1.  25.  33.  11. 899.  11.   2.   5.  78.   0.   1.   2.   9.   8.\n",
      "    7.   1.  78.  90.]]\n"
     ]
    }
   ],
   "source": [
    "print(f)"
   ]
  },
  {
   "cell_type": "markdown",
   "id": "81f70dc4-4e51-4c2e-8401-4a4df77712e6",
   "metadata": {},
   "source": [
    "Notice that, even after using astype function, the original data remains same\n",
    "\n",
    "Which says to us that, astype creates a copy of the original data and doesn't inplace"
   ]
  },
  {
   "cell_type": "markdown",
   "id": "c3349fb5-4e87-473d-a6de-a62f46cc76e5",
   "metadata": {},
   "source": [
    "Concept of advanced indexing"
   ]
  },
  {
   "cell_type": "code",
   "execution_count": 6,
   "id": "ac19522e-c5a2-4d08-b3b1-4f0e47959427",
   "metadata": {},
   "outputs": [
    {
     "name": "stdout",
     "output_type": "stream",
     "text": [
      "[[  1.  13.  21.  11. 200.  75.   4.   3.  34.  29.   7.   8.   0.   1.\n",
      "    2.   3.   4.   5.]\n",
      " [  3.  42.  12.  33. 250.  75.   4.  55.   5.   4.   3.   4.   6.   6.\n",
      "    7.   0.  11.  15.]\n",
      " [  1.  25.  33.  11. 899.  11.   2.   5.  78.   0.   1.   2.   9.   8.\n",
      "    7.   1.  78.  90.]]\n",
      "[[False False  True False  True  True False False  True  True False False\n",
      "  False False False False False False]\n",
      " [False  True False  True  True  True False  True False False False False\n",
      "  False False False False False False]\n",
      " [False  True  True False  True False False False  True False False False\n",
      "  False False False False  True  True]]\n"
     ]
    }
   ],
   "source": [
    "f = np.genfromtxt('data.txt', delimiter=',')\n",
    "print(f)\n",
    "\n",
    "print(f>20)"
   ]
  },
  {
   "cell_type": "code",
   "execution_count": 7,
   "id": "fabd461a-c187-4be2-a261-6b870d1310f1",
   "metadata": {},
   "outputs": [
    {
     "name": "stdout",
     "output_type": "stream",
     "text": [
      "[ 21. 200.  75.  34.  29.  42.  33. 250.  75.  55.  25.  33. 899.  78.\n",
      "  78.  90.]\n"
     ]
    }
   ],
   "source": [
    "print(f[f>20])"
   ]
  },
  {
   "cell_type": "code",
   "execution_count": 8,
   "id": "35c6391d-240e-4744-95fe-07824c944701",
   "metadata": {},
   "outputs": [
    {
     "name": "stdout",
     "output_type": "stream",
     "text": [
      "[1 3 0]\n"
     ]
    }
   ],
   "source": [
    "# To index using a list of values\n",
    "\n",
    "a = np.array([1,2,3,4,5,6,7,8,9,0])\n",
    "print(a[[0,2,9]])"
   ]
  },
  {
   "cell_type": "code",
   "execution_count": 9,
   "id": "93399221-18ad-47f0-96aa-154a2e9ef2d4",
   "metadata": {},
   "outputs": [],
   "source": [
    "a[[0,2,9]] = [100,200,300]"
   ]
  },
  {
   "cell_type": "code",
   "execution_count": 10,
   "id": "8229cfb3-0467-4638-8141-5b3f0e804b51",
   "metadata": {},
   "outputs": [
    {
     "name": "stdout",
     "output_type": "stream",
     "text": [
      "[100   2 200   4   5   6   7   8   9 300]\n"
     ]
    }
   ],
   "source": [
    "print(a)"
   ]
  },
  {
   "cell_type": "code",
   "execution_count": 11,
   "id": "941ca378-facb-47c3-82e4-e5644b6be84d",
   "metadata": {},
   "outputs": [
    {
     "name": "stdout",
     "output_type": "stream",
     "text": [
      "[[  1  13  21  11 200  75   4   3  34  29   7   8   0   1   2   3   4   5]\n",
      " [  3  42  12  33 250  75   4  55   5   4   3   4   6   6   7   0  11  15]\n",
      " [  1  25  33  11 899  11   2   5  78   0   1   2   9   8   7   1  78  90]]\n",
      "[ True  True  True]\n"
     ]
    }
   ],
   "source": [
    "# any function\n",
    "\n",
    "f = np.genfromtxt('data.txt', delimiter=',')\n",
    "f = f.astype('int32')\n",
    "print(f)\n",
    "\n",
    "print(np.any(f>100, axis=1))"
   ]
  },
  {
   "cell_type": "code",
   "execution_count": 12,
   "id": "0197d049-3602-480f-b6fe-9f203df3272d",
   "metadata": {},
   "outputs": [
    {
     "name": "stdout",
     "output_type": "stream",
     "text": [
      "[[  1  13  21  11 200  75   4   3  34  29   7   8   0   1   2   3   4   5]\n",
      " [  3  42  12  33 250  75   4  55   5   4   3   4   6   6   7   0  11  15]\n",
      " [  1  25  33  11 899  11   2   5  78   0   1   2   9   8   7   1  78  90]]\n",
      "[False False False False  True False False False False False False False\n",
      " False False False False False False]\n"
     ]
    }
   ],
   "source": [
    "# any function\n",
    "\n",
    "f = np.genfromtxt('data.txt', delimiter=',')\n",
    "f = f.astype('int32')\n",
    "print(f)\n",
    "\n",
    "print(np.any(f>100, axis=0))"
   ]
  },
  {
   "cell_type": "code",
   "execution_count": 13,
   "id": "4c5c8937-9ed1-4cde-8f01-77183d79b034",
   "metadata": {},
   "outputs": [
    {
     "name": "stdout",
     "output_type": "stream",
     "text": [
      "[[  1  13  21  11 200  75   4   3  34  29   7   8   0   1   2   3   4   5]\n",
      " [  3  42  12  33 250  75   4  55   5   4   3   4   6   6   7   0  11  15]\n",
      " [  1  25  33  11 899  11   2   5  78   0   1   2   9   8   7   1  78  90]]\n",
      "[False False False False  True False False False False False False False\n",
      " False False False False False False]\n"
     ]
    }
   ],
   "source": [
    "# all function\n",
    "\n",
    "f = np.genfromtxt('data.txt', delimiter=',')\n",
    "f = f.astype('int32')\n",
    "print(f)\n",
    "\n",
    "print(np.all(f>100, axis=0))"
   ]
  },
  {
   "cell_type": "code",
   "execution_count": 14,
   "id": "c0fead89-f794-4350-b08d-c388ccb42796",
   "metadata": {},
   "outputs": [
    {
     "name": "stdout",
     "output_type": "stream",
     "text": [
      "[[  1  13  21  11 200  75   4   3  34  29   7   8   0   1   2   3   4   5]\n",
      " [  3  42  12  33 250  75   4  55   5   4   3   4   6   6   7   0  11  15]\n",
      " [  1  25  33  11 899  11   2   5  78   0   1   2   9   8   7   1  78  90]]\n",
      "[False False False]\n"
     ]
    }
   ],
   "source": [
    "f = np.genfromtxt('data.txt', delimiter=',')\n",
    "f = f.astype('int32')\n",
    "print(f)\n",
    "\n",
    "print(np.all(f>100, axis=1))"
   ]
  },
  {
   "cell_type": "markdown",
   "id": "68060781-c82b-40f9-b735-fbfdedaeb990",
   "metadata": {},
   "source": [
    "We can also use arithmetic operations to compare etc"
   ]
  },
  {
   "cell_type": "code",
   "execution_count": null,
   "id": "885af7ce-f1ca-47a1-979f-235c9c5d2d82",
   "metadata": {},
   "outputs": [],
   "source": []
  }
 ],
 "metadata": {
  "kernelspec": {
   "display_name": "Python 3 (ipykernel)",
   "language": "python",
   "name": "python3"
  },
  "language_info": {
   "codemirror_mode": {
    "name": "ipython",
    "version": 3
   },
   "file_extension": ".py",
   "mimetype": "text/x-python",
   "name": "python",
   "nbconvert_exporter": "python",
   "pygments_lexer": "ipython3",
   "version": "3.12.5"
  }
 },
 "nbformat": 4,
 "nbformat_minor": 5
}
